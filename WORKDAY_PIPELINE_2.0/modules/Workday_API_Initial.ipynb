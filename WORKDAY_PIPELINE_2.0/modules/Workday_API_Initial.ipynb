{
 "cells": [
  {
   "cell_type": "code",
   "execution_count": 13,
   "id": "3c7ae60f",
   "metadata": {},
   "outputs": [
    {
     "data": {
      "text/plain": [
       "<Response [401]>"
      ]
     },
     "execution_count": 13,
     "metadata": {},
     "output_type": "execute_result"
    }
   ],
   "source": [
    "import base64\n",
    "import requests\n",
    "from config import Client_ID, Client_Secret\n",
    "\n",
    "base_url = 'https://wd2-impl-services1.workday.com/ccx/api/v1/greendot1'\n",
    "\n",
    "class API_creds:\n",
    "    \n",
    "    num_of_creds = 0\n",
    "    \n",
    "    def __init__(self, client_secret, client_id):\n",
    "        self.client_secret = client_secret\n",
    "        self.client_id = client_id\n",
    "        \n",
    "        API_creds.num_of_creds += 1\n",
    "        \n",
    "    def encodeCredentials(self):\n",
    "        client_credential_string = self.client_id + ':' + self.client_secret\n",
    "        encoded_credentials = base64.b64encode(client_credential_string.encode('utf-8'))\n",
    "        encoded_credential_string = str(encoded_credentials, 'utf-8')\n",
    "        \n",
    "        return('Basic ' + encoded_credential_string)\n",
    "    \n",
    "    \n",
    "    def get_access_token(self):\n",
    "    \n",
    "        s = requests.Session()\n",
    "\n",
    "        url = 'https://services1.myworkday.com/ccx/oauth2/greendot/token'\n",
    "\n",
    "        headers = {\n",
    "            'Content-Type': 'application/x-www-form-urlencoded',\n",
    "            'Authorization': self.encodeCredentials()\n",
    "        }\n",
    "        \n",
    "        body = 'grant_type=refresh_token&refresh_token=mla95c4f9flar3fsub01jfq5r3h4kxn9ma5ynybzt3sinc3ne2holue7pi133yki81fgi5f305y07mch8levawb4tk0ce4dt2kh'\n",
    "        \n",
    "\n",
    "        r = s.post(url, headers=headers, data=body)\n",
    "        \n",
    "\n",
    "        tok = r.json()['access_token']\n",
    "\n",
    "        return(tok)\n",
    "    \n",
    "one = API_creds(Client_Secret, Client_ID)\n",
    "tok = one.get_access_token()\n",
    "\n",
    "\n",
    "def get_endpoint(tok):\n",
    "    \n",
    "    url_ext = '/workers'\n",
    "    \n",
    "    response = requests.get(\n",
    "        base_url + url_ext,\n",
    "        headers={'Authorization': 'Bearer ' + tok,\n",
    "        'Content-Type': 'application/json'})\n",
    "    \n",
    "    return(response)\n",
    "\n",
    "get_endpoint(tok)\n",
    "\n",
    "#Kept getting 401 response - AKA invalid creds"
   ]
  }
 ],
 "metadata": {
  "kernelspec": {
   "display_name": "Python 3 (ipykernel)",
   "language": "python",
   "name": "python3"
  },
  "language_info": {
   "codemirror_mode": {
    "name": "ipython",
    "version": 3
   },
   "file_extension": ".py",
   "mimetype": "text/x-python",
   "name": "python",
   "nbconvert_exporter": "python",
   "pygments_lexer": "ipython3",
   "version": "3.9.7"
  }
 },
 "nbformat": 4,
 "nbformat_minor": 5
}
